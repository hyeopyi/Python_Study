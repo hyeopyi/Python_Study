{
 "cells": [
  {
   "cell_type": "markdown",
   "metadata": {},
   "source": [
    "### 몬테카를로 시뮬레이션\n",
    ": 자료가 없을 경우 난수를 통해서 가설 증명"
   ]
  },
  {
   "cell_type": "code",
   "execution_count": 2,
   "metadata": {},
   "outputs": [],
   "source": [
    "# 동전의 앞면과 뒷면이 나올 확률이 같다는 것을 증명"
   ]
  },
  {
   "cell_type": "code",
   "execution_count": 3,
   "metadata": {},
   "outputs": [],
   "source": [
    "import random"
   ]
  },
  {
   "cell_type": "code",
   "execution_count": 4,
   "metadata": {},
   "outputs": [
    {
     "data": {
      "text/plain": [
       "3"
      ]
     },
     "execution_count": 4,
     "metadata": {},
     "output_type": "execute_result"
    }
   ],
   "source": [
    "random.randint(1, 10)"
   ]
  },
  {
   "cell_type": "code",
   "execution_count": 5,
   "metadata": {},
   "outputs": [],
   "source": [
    "def coinF(n):\n",
    "    coinFront = coinRear = 0\n",
    "    for i in range(1, n+1):\n",
    "        x = random.randint(1, 2)\n",
    "        if x == 1:\n",
    "            coinFront += 1\n",
    "        else :\n",
    "            coinRear += 1\n",
    "    print(\"%7d번 시도시 동정의 앞면은 %6d이고 동전의 뒷면은 %6d입니다\"%(n, coinFront, coinRear))"
   ]
  },
  {
   "cell_type": "code",
   "execution_count": 13,
   "metadata": {},
   "outputs": [
    {
     "name": "stdout",
     "output_type": "stream",
     "text": [
      "     10번 시도시 동정의 앞면은      6이고 동전의 뒷면은      4입니다\n",
      "    100번 시도시 동정의 앞면은     57이고 동전의 뒷면은     43입니다\n",
      "   1000번 시도시 동정의 앞면은    490이고 동전의 뒷면은    510입니다\n",
      "  10000번 시도시 동정의 앞면은   5054이고 동전의 뒷면은   4946입니다\n",
      " 100000번 시도시 동정의 앞면은  49812이고 동전의 뒷면은  50188입니다\n",
      "1000000번 시도시 동정의 앞면은 500459이고 동전의 뒷면은 499541입니다\n"
     ]
    }
   ],
   "source": [
    "coinF(10)\n",
    "coinF(100)\n",
    "coinF(1000)\n",
    "coinF(10000)\n",
    "coinF(100000)\n",
    "coinF(1000000)"
   ]
  },
  {
   "cell_type": "code",
   "execution_count": 10,
   "metadata": {},
   "outputs": [],
   "source": [
    "def scissors(n):\n",
    "    x1 = x2 = x3 = 0\n",
    "    for i in range(1, n+1):\n",
    "        x = random.randint(1,3)\n",
    "        if x == 1:\n",
    "            x1 += 1\n",
    "        elif x == 2:\n",
    "            x2 += 1\n",
    "        else:\n",
    "            x3 += 1\n",
    "    print(\"%7d번 시도시 가위는 %6d이고 바위는 %6d이고 보는 %6d입니다\"%(n, x1, x2, x3))\n",
    "        \n"
   ]
  },
  {
   "cell_type": "code",
   "execution_count": 12,
   "metadata": {},
   "outputs": [
    {
     "name": "stdout",
     "output_type": "stream",
     "text": [
      "     10번 시도시 가위는      2이고 바위는      4이고 보는      4입니다\n",
      "    100번 시도시 가위는     34이고 바위는     42이고 보는     24입니다\n",
      "   1000번 시도시 가위는    332이고 바위는    344이고 보는    324입니다\n",
      "  10000번 시도시 가위는   3396이고 바위는   3249이고 보는   3355입니다\n",
      " 100000번 시도시 가위는  33364이고 바위는  33210이고 보는  33426입니다\n",
      "1000000번 시도시 가위는 333213이고 바위는 332678이고 보는 334109입니다\n"
     ]
    }
   ],
   "source": [
    "scissors(10)\n",
    "scissors(100)\n",
    "scissors(1000)\n",
    "scissors(10000)\n",
    "scissors(100000)\n",
    "scissors(1000000)\n"
   ]
  },
  {
   "cell_type": "code",
   "execution_count": null,
   "metadata": {},
   "outputs": [],
   "source": []
  }
 ],
 "metadata": {
  "kernelspec": {
   "display_name": "Python 3.9.7 ('base')",
   "language": "python",
   "name": "python3"
  },
  "language_info": {
   "codemirror_mode": {
    "name": "ipython",
    "version": 3
   },
   "file_extension": ".py",
   "mimetype": "text/x-python",
   "name": "python",
   "nbconvert_exporter": "python",
   "pygments_lexer": "ipython3",
   "version": "3.9.7"
  },
  "orig_nbformat": 4,
  "vscode": {
   "interpreter": {
    "hash": "c34e8390e776d2ee205b71ed5a6130fee3cef8da5e87e926ce18e14f4a070d72"
   }
  }
 },
 "nbformat": 4,
 "nbformat_minor": 2
}
