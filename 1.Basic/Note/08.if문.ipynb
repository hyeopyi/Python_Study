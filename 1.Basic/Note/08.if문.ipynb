{
 "cells": [
  {
   "cell_type": "code",
   "execution_count": 1,
   "metadata": {},
   "outputs": [],
   "source": [
    "from random import randint"
   ]
  },
  {
   "cell_type": "code",
   "execution_count": 2,
   "metadata": {},
   "outputs": [
    {
     "data": {
      "text/plain": [
       "89"
      ]
     },
     "execution_count": 2,
     "metadata": {},
     "output_type": "execute_result"
    }
   ],
   "source": [
    "randint(1, 100)"
   ]
  },
  {
   "cell_type": "code",
   "execution_count": 7,
   "metadata": {},
   "outputs": [
    {
     "name": "stdout",
     "output_type": "stream",
     "text": [
      "30보다 큽니다.\n"
     ]
    }
   ],
   "source": [
    "x = randint(1, 100)  # elseif -> elif, else\n",
    "if x > 70:\n",
    "    print(\"70보다 큽니다.\")\n",
    "elif x > 50:\n",
    "    print(\"50보다 큽니다.\")\n",
    "elif x > 30:\n",
    "    print(\"30보다 큽니다.\")\n",
    "else:\n",
    "    print(\"0보다 큽니다.\")"
   ]
  },
  {
   "cell_type": "code",
   "execution_count": 8,
   "metadata": {},
   "outputs": [
    {
     "name": "stdout",
     "output_type": "stream",
     "text": [
      "홀수 입니다.\n"
     ]
    }
   ],
   "source": [
    "# 홀짝수 구분\n",
    "x = 9\n",
    "if x % 2 == 0:\n",
    "    print(\"짝수 입니다.\")\n",
    "else:\n",
    "    print(\"홀수 입니다.\")\n"
   ]
  },
  {
   "cell_type": "code",
   "execution_count": 11,
   "metadata": {},
   "outputs": [
    {
     "data": {
      "text/plain": [
       "int"
      ]
     },
     "execution_count": 11,
     "metadata": {},
     "output_type": "execute_result"
    }
   ],
   "source": [
    "# 사용자로 부터 숫자를 입력 받자.\n",
    "number = int(input(\"숫자를 입력하세요 : \"))\n",
    "type(number)"
   ]
  },
  {
   "cell_type": "code",
   "execution_count": 13,
   "metadata": {},
   "outputs": [
    {
     "name": "stdout",
     "output_type": "stream",
     "text": [
      "10 는 짝수 입니다.\n"
     ]
    }
   ],
   "source": [
    "number = int(input(\"숫자를 입력하세요: \"))\n",
    "if number % 2 == 0:\n",
    "    print(\"%d 는 짝수 입니다.\"%number)\n",
    "else:\n",
    "    print(\"%d 는 홀수 입니다.\"%number)"
   ]
  },
  {
   "cell_type": "code",
   "execution_count": 16,
   "metadata": {},
   "outputs": [
    {
     "name": "stdout",
     "output_type": "stream",
     "text": [
      "점수는 92 이고 A학점 입니다.\n"
     ]
    }
   ],
   "source": [
    "score = int(input(\"숫자를 입력하세요: \"))\n",
    "if score >= 90:\n",
    "    print(\"점수는 %d 이고 A학점 입니다.\"%score)\n",
    "elif score >= 80:\n",
    "    print(\"점수는 %d 이고 B학점 입니다.\"%score)\n",
    "elif score >= 70:\n",
    "    print(\"점수는 %d 이고 C학점 입니다.\"%score)\n",
    "else:\n",
    "    print(\"점수는 %d 이고 F학점 입니다.\"%score)"
   ]
  },
  {
   "cell_type": "code",
   "execution_count": 29,
   "metadata": {},
   "outputs": [
    {
     "name": "stdout",
     "output_type": "stream",
     "text": [
      "입력하신 숫자는 125이며 제곱근은 11.180\n"
     ]
    }
   ],
   "source": [
    "# 사용자로 부터 숫자를 입력받아 5의 배수이면 제곱근을 구하고 그렇지 않으면 원래수를 출력하기\n",
    "import math\n",
    "number = int(input(\"숫자를 입력하세요: \"))\n",
    "if number % 5 == 0:\n",
    "    print(\"입력하신 숫자는 %d이며 제곱근은 %f\"%(number,math.sqrt(number)))\n",
    "else:\n",
    "    print(\"입력하신 숫자는 %d 입니다,\"%number)\n",
    "\n"
   ]
  },
  {
   "cell_type": "code",
   "execution_count": 30,
   "metadata": {},
   "outputs": [
    {
     "name": "stdout",
     "output_type": "stream",
     "text": [
      "신용카드를 사용한 택시타기!\n",
      "--- End ---\n"
     ]
    }
   ],
   "source": [
    "# list의 내용을 if문으로 확인하기\n",
    "\n",
    "pocket = ['paper', 'smartphone']\n",
    "card = 1\n",
    "\n",
    "if 'money' in pocket:\n",
    "    print(\"현금으로 택시하기!\")\n",
    "elif card:\n",
    "    print(\"신용카드를 사용한 택시타기!\")\n",
    "else:\n",
    "    print(\"튼튼한 다리를 사용!\")\n",
    "print(\"--- End ---\")"
   ]
  },
  {
   "cell_type": "markdown",
   "metadata": {},
   "source": [
    "### 변수 = 참인 경우 if(조건문) else (거짓인 경우)"
   ]
  },
  {
   "cell_type": "code",
   "execution_count": 32,
   "metadata": {},
   "outputs": [
    {
     "name": "stdout",
     "output_type": "stream",
     "text": [
      "18\n"
     ]
    }
   ],
   "source": [
    "# 삼항 연산자\n",
    "# 변수 = 참인 경우 if(조건문) else (거짓인 경우)\n",
    "# 중요부분 !!!\n",
    "num = 9\n",
    "result = 0\n",
    "\n",
    "result = num * 2 if num >= 5 else num + 2\n",
    "print(result)"
   ]
  }
 ],
 "metadata": {
  "kernelspec": {
   "display_name": "Python 3.9.10 64-bit",
   "language": "python",
   "name": "python3"
  },
  "language_info": {
   "codemirror_mode": {
    "name": "ipython",
    "version": 3
   },
   "file_extension": ".py",
   "mimetype": "text/x-python",
   "name": "python",
   "nbconvert_exporter": "python",
   "pygments_lexer": "ipython3",
   "version": "3.9.10"
  },
  "orig_nbformat": 4,
  "vscode": {
   "interpreter": {
    "hash": "aee8b7b246df8f9039afb4144a1f6fd8d2ca17a180786b69acc140d282b71a49"
   }
  }
 },
 "nbformat": 4,
 "nbformat_minor": 2
}
